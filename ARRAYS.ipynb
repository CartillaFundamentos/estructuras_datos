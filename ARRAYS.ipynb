{
  "nbformat": 4,
  "nbformat_minor": 0,
  "metadata": {
    "colab": {
      "provenance": [],
      "authorship_tag": "ABX9TyOcyUP1GSQ3GDc5c0dOhnEM",
      "include_colab_link": true
    },
    "kernelspec": {
      "name": "python3",
      "display_name": "Python 3"
    },
    "language_info": {
      "name": "python"
    }
  },
  "cells": [
    {
      "cell_type": "markdown",
      "metadata": {
        "id": "view-in-github",
        "colab_type": "text"
      },
      "source": [
        "<a href=\"https://colab.research.google.com/github/CartillaFundamentos/estructuras_datos/blob/main/ARRAYS.ipynb\" target=\"_parent\"><img src=\"https://colab.research.google.com/assets/colab-badge.svg\" alt=\"Open In Colab\"/></a>"
      ]
    },
    {
      "cell_type": "markdown",
      "source": [
        "# **VECTORES**"
      ],
      "metadata": {
        "id": "syDIzuQXzutT"
      }
    },
    {
      "cell_type": "markdown",
      "source": [
        "## Ejercicio No. 67: Vector con números aleatorios."
      ],
      "metadata": {
        "id": "u30sedFPsROe"
      }
    },
    {
      "cell_type": "code",
      "execution_count": null,
      "metadata": {
        "id": "GeIceYDcy5wg"
      },
      "outputs": [],
      "source": [
        "# Ejercicio No. 67: Vector con números aleatorios.\n",
        "\n",
        "import random\n",
        "\n",
        "# processing\n",
        "x = [None]*10\n",
        "for i in range(10):\n",
        "  x[i] = random.random()\n",
        "  print(x[i]) # output"
      ]
    },
    {
      "cell_type": "markdown",
      "source": [
        "## Ejercicio No. 68: Suma de los elementos de un vector."
      ],
      "metadata": {
        "id": "ivtKIED6sV-V"
      }
    },
    {
      "cell_type": "code",
      "source": [
        "# Ejercicio No. 68: Suma de los elementos de un vector.\n",
        "\n",
        "suma = 0\n",
        "vector = [None]*5\n",
        "\n",
        "# processing\n",
        "for i in range(5):\n",
        "  a = int(input(\"Dame un elemento: \"))\n",
        "  vector[i] = a\n",
        "  suma += vector[i]\n",
        "\n",
        "# output\n",
        "print(\"La suma de los elementos del vector es:\", suma)"
      ],
      "metadata": {
        "id": "g8Po9j0M2cXK"
      },
      "execution_count": null,
      "outputs": []
    },
    {
      "cell_type": "markdown",
      "source": [
        "## Ejercicio No. 69: Promedio salarial de una empresa.\n",
        "\n",
        "Una empresa tiene 5 empleados, por cada uno de ellos tenemos un registro que trae grabados dos datos, el nombre del empleado, y su correspondiente salario mensual. Hacer el diagrama y programa en python que averigüe e imprima cuantos empleados ganan más del promedio salarial de la empresa."
      ],
      "metadata": {
        "id": "1E9raX2b4BtF"
      }
    },
    {
      "cell_type": "code",
      "source": [
        "# Ejercicio No. 69: Promedio salarial de una empresa.\n",
        "\n",
        "salarios = [None]*5\n",
        "empleados = [None]*5\n",
        "ps = 0\n",
        "resultado = 0\n",
        "\n",
        "# processing\n",
        "for i in range(5):\n",
        "  empleados[i] = input(\"Nombre de empleado: \")\n",
        "  salarios[i] = int(input(\"Salario de empleado: \"))\n",
        "  ps += salarios[i]\n",
        "ps = ps / 5\n",
        "\n",
        "for i in range(5):\n",
        "  if salarios[i] > ps:\n",
        "    resultado += 1\n",
        "  \n",
        "# output\n",
        "print(\"Número de empleados que ganan más del ps:\", resultado)"
      ],
      "metadata": {
        "id": "I9gN6kSC5CXq"
      },
      "execution_count": null,
      "outputs": []
    },
    {
      "cell_type": "markdown",
      "source": [
        "## Ejercicio No. 70: Posición del mayor y menor en un vector.\n",
        "\n",
        "Hacer el diagrama de flujo y el programa en python que lea un vector a de n elementos, y que averigüe e imprima cuál es el mayor y en qué posición se encuentra, y cuál es el menor y en qué posición se encuentra"
      ],
      "metadata": {
        "id": "TqaKtt2L_IU3"
      }
    },
    {
      "cell_type": "code",
      "source": [
        "# Ejercicio No. 70: Posición del mayor y menor en un vector.\n",
        "\n",
        "mayor = -(100**10)\n",
        "menor = 100**10\n",
        "\n",
        "# input\n",
        "n = int(input(\"Número de elementos: \"))\n",
        "\n",
        "# processing\n",
        "vector = [None]*n\n",
        "for i in range(n):\n",
        "  print(\"Posición\", i)\n",
        "  vector[i] = int(input(\"Valor: \"))\n",
        "  if vector[i] > mayor:\n",
        "    mayor = vector[i]\n",
        "    pos_mayor = i\n",
        "  elif vector[i] < menor:\n",
        "    menor = vector[i]\n",
        "    pos_menor = i \n",
        "\n",
        "# output\n",
        "print(\"Valor del mayor:\", mayor)\n",
        "print(\"Posición del mayor:\", pos_mayor)\n",
        "print(\"Valor del menor:\", menor)\n",
        "print(\"Posición del menor:\", pos_menor)"
      ],
      "metadata": {
        "id": "ies-sjYO_gqc"
      },
      "execution_count": null,
      "outputs": []
    },
    {
      "cell_type": "markdown",
      "source": [
        "## Ejercicio No. 71:\n",
        "\n",
        "Diagrama de flujo y programa para calcular la magnitud o norma euclidiana de un vector."
      ],
      "metadata": {
        "id": "Ut7Avd_DFOy2"
      }
    },
    {
      "cell_type": "code",
      "source": [
        "# Ejercicio No. 71: Calcular la magnitud o norma euclidiana de un vector\n",
        "\n",
        "norma = 0\n",
        "\n",
        "# input\n",
        "n = int(input(\"Número de elementos del vector: \"))\n",
        "\n",
        "# processing\n",
        "vector = [None] * n\n",
        "for i in range(n):\n",
        "  print(\"Posición:\", i)\n",
        "  vector[i] = int(input(\"Valor: \"))\n",
        "for i in range(n):\n",
        "   norma = norma + vector[i]**2\n",
        "norma = norma**0.5\n",
        "\n",
        "# output\n",
        "print(\"Vector generado:\", vector)\n",
        "print(\"La magnitud del vector es:\", norma)"
      ],
      "metadata": {
        "id": "_ZGlXrTxs7ue"
      },
      "execution_count": null,
      "outputs": []
    },
    {
      "cell_type": "markdown",
      "source": [
        "# Ejercicio No. 72: Producto punto entre dos vectores.\n",
        "Hacer el diagrama de flujo y el programa en Python que calcule el producto punto de dos vectores."
      ],
      "metadata": {
        "id": "mgqGmmItrHH2"
      }
    },
    {
      "cell_type": "code",
      "source": [
        "# Ejercicio No. 72: Producto punto entre dos vectores\n",
        "\n",
        "resultado = 0\n",
        "\n",
        "# input\n",
        "n = int(input(\"Número de elementos de los vectores: \")\n",
        "\n",
        "# processing\n",
        "vector1 = [None] * n\n",
        "print(\"Elementos del segundo vector:\")\n",
        "for i in range(n):\n",
        "  print(\"Posición:\", i)\n",
        "  vector1[i] = int(input(\"Valor: \"))\n",
        "\n",
        "vector2 = [None] * n\n",
        "print(\"Elementos del segundo vector:\")\n",
        "for i in range(n):\n",
        "  print(\"Posición:\", i)\n",
        "  vector2[i] = int(input(\"Valor: \"))\n",
        "\n",
        "for i in range(n):\n",
        "  producto = producto + vector2[i]*vector1[i]\n",
        "\n",
        "# output\n",
        "print(\"Vector 1:\", vector1)\n",
        "print(\"Vector 2:\", vector2)\n",
        "print(\"El producto punto entre los dos vectores es:\", resultado)"
      ],
      "metadata": {
        "id": "I2zQM9CnrOqU"
      },
      "execution_count": null,
      "outputs": []
    },
    {
      "cell_type": "markdown",
      "source": [
        "# Matrices"
      ],
      "metadata": {
        "id": "1zCbZWxvuJb8"
      }
    },
    {
      "cell_type": "markdown",
      "source": [
        "# Ejercicio No. 73: Generación de una matriz.\n",
        "Se busca crear una matriz 3 x 3 y se busca imprimirla en pantalla como las matrices que conocemos."
      ],
      "metadata": {
        "id": "Rzmh-6VA6Qmf"
      }
    },
    {
      "cell_type": "code",
      "source": [
        "# Ejercicio No. 73: Generación de una matriz.\n",
        "\n",
        "M = [[1,2,3], [4,5,6], [7,8,9]]\n",
        "\n",
        "# processing\n",
        "for i in range(3):\n",
        "  for j in range(3):\n",
        "    print(M[i][j], end=\" \") # output\n",
        "  print()"
      ],
      "metadata": {
        "id": "WNXpNS3FuN-s"
      },
      "execution_count": null,
      "outputs": []
    },
    {
      "cell_type": "markdown",
      "source": [
        "# Ejercicio No. 74: Generación de una matriz por indexación."
      ],
      "metadata": {
        "id": "ckcXnB6u6jFe"
      }
    },
    {
      "cell_type": "code",
      "source": [
        "# Ejercicio No. 74: Generación de una matriz por indexación.\n",
        "\n",
        "import random\n",
        "\n",
        "M = []\n",
        "\n",
        "# input\n",
        "m = int(input(\"Filas de la matriz: \"))\n",
        "n = int(input(\"Columnas de la matriz: \"))\n",
        "\n",
        "# processing\n",
        "for i in range(m):\n",
        "  M.append([])\n",
        "  for j in range(n):\n",
        "    M[i].append(random.randint(1,9))\n",
        "\n",
        "for k in range(m): \n",
        "  for j in range(n):\n",
        "    print(M[k][j], end=\" \") # output\n",
        "  print()"
      ],
      "metadata": {
        "id": "elxbKuNQvbic"
      },
      "execution_count": null,
      "outputs": []
    },
    {
      "cell_type": "markdown",
      "source": [
        "# Ejercicio No. 75: Suma de los elementos de la matriz."
      ],
      "metadata": {
        "id": "vs6UsU-DAn70"
      }
    },
    {
      "cell_type": "code",
      "source": [
        "# Ejercicio No. 75: Suma de los elementos de la matriz.\n",
        "\n",
        "import random\n",
        "\n",
        "suma = 0 \n",
        "M = []\n",
        "\n",
        "# input\n",
        "m = int(input(\"Filas de la matriz: \"))\n",
        "n = int(input(\"Columnas de la matriz: \"))\n",
        "\n",
        "# processing\n",
        "for i in range(m):\n",
        "  M.append([])\n",
        "  for j in range(n):\n",
        "    M[i].append(random.randint(1,9))\n",
        "\n",
        "for k in range(m): \n",
        "  for j in range(n):\n",
        "    print(M[k][j], end=\" \")\n",
        "  print()\n",
        "\n",
        "for i in range(m): \n",
        "  for j in range(n):\n",
        "    suma = suma + M[i][j]\n",
        "\n",
        "# output\n",
        "print(\"Suma de los elementos de la matriz:\", suma)"
      ],
      "metadata": {
        "id": "MXZOEgfd7jnu"
      },
      "execution_count": null,
      "outputs": []
    },
    {
      "cell_type": "markdown",
      "source": [
        "# Ejercicio No. 76: Suma de los elementos de la diagonal principal."
      ],
      "metadata": {
        "id": "usmMhdRzBcxo"
      }
    },
    {
      "cell_type": "code",
      "source": [
        "# Ejercicio No. 76: Suma de los elementos de la diagonal principal.\n",
        "\n",
        "import random\n",
        "\n",
        "suma = 0\n",
        "M = []\n",
        "\n",
        "# input\n",
        "m = int(input(\"Filas de la matriz: \"))\n",
        "n = int(input(\"Columnas de la matriz: \"))\n",
        "\n",
        "# processing\n",
        "for i in range(m):\n",
        "  M.append([])\n",
        "  for j in range(n):\n",
        "    M[i].append(random.randint(1,9))\n",
        "\n",
        "for k in range(m): \n",
        "  for j in range(n):\n",
        "    print(M[k][j], end=\" \")\n",
        "  print()\n",
        "\n",
        "if m == n:\n",
        "  for i in range(m):\n",
        "    for j in range(n):\n",
        "      if i == j:\n",
        "        suma = suma + M[i][j]\n",
        "  print(\"Resultado de la traza:\", suma) # output\n",
        "else:\n",
        "  print(\"No existe una diagonal principal\") # output"
      ],
      "metadata": {
        "id": "yYXqeGS8Ae4Y"
      },
      "execution_count": null,
      "outputs": []
    },
    {
      "cell_type": "markdown",
      "source": [
        "# Ejercicio No. 77: Suma de los elementos de la diagonal secundaria."
      ],
      "metadata": {
        "id": "odmaXKkZHKT4"
      }
    },
    {
      "cell_type": "code",
      "source": [
        "# Ejercicio No. 77: Suma de los elementos de la diagonal secundaria.\n",
        "\n",
        "import random\n",
        "\n",
        "suma = 0\n",
        "M = []\n",
        "\n",
        "# input\n",
        "m = int(input(\"Filas de la matriz: \"))\n",
        "n = int(input(\"Columnas de la matriz: \"))\n",
        "\n",
        "# processing\n",
        "for i in range(m):\n",
        "  M.append([])\n",
        "  for j in range(n):\n",
        "    M[i].append(random.randint(1,9))\n",
        "\n",
        "for k in range(m): \n",
        "  for j in range(n):\n",
        "    print(M[k][j], end=\" \")\n",
        "  print()\n",
        "\n",
        "if m == n:\n",
        "  for i in range(m):\n",
        "    for j in range(n):\n",
        "      if i + j == m-1:\n",
        "        suma = suma + M[i][j]\n",
        "  print(\"Suma de los elementos de la diagonal secundaria: \", suma) # output\n",
        "else:\n",
        "  print(\"No existe una diagonal secundaria\") # output"
      ],
      "metadata": {
        "id": "YgdT3l_zEK1_"
      },
      "execution_count": null,
      "outputs": []
    },
    {
      "cell_type": "markdown",
      "source": [
        "# Ejercicio No. 78: Suma de los elementos de la triangular inferior."
      ],
      "metadata": {
        "id": "Xg980M8gJ23v"
      }
    },
    {
      "cell_type": "code",
      "source": [
        "# Ejercicio No. 78: Suma de los elementos de la triangular inferior.\n",
        "\n",
        "import random\n",
        "\n",
        "suma = 0\n",
        "M = []\n",
        "\n",
        "# input\n",
        "m = int(input(\"Filas de la matriz: \"))\n",
        "n = int(input(\"Columnas de la matriz: \"))\n",
        "\n",
        "# processing\n",
        "for i in range(m):\n",
        "  M.append([])\n",
        "  for j in range(n):\n",
        "    M[i].append(random.randint(1,9))\n",
        "\n",
        "for k in range(m): \n",
        "  for j in range(n):\n",
        "    print(M[k][j], end=\" \")\n",
        "  print()\n",
        "\n",
        "if m == n:\n",
        "  for i in range(m):\n",
        "    for j in range(n):\n",
        "      if i > j:\n",
        "        suma = suma + M[i][j]\n",
        "  print(\"Suma de los elementos de la triangular inferior: \", suma) # output\n",
        "else:\n",
        "  print(\"No existe triangular inferior\") # output"
      ],
      "metadata": {
        "id": "46skzpZWHa1C"
      },
      "execution_count": null,
      "outputs": []
    },
    {
      "cell_type": "markdown",
      "source": [
        "# Ejercicio No. 79: Suma de los elementos de la triangular superior."
      ],
      "metadata": {
        "id": "wxMhpdYlLtHK"
      }
    },
    {
      "cell_type": "code",
      "source": [
        "# Ejercicio No. 79: Suma de los elementos de la triangular superior\n",
        "\n",
        "import random\n",
        "\n",
        "suma = 0\n",
        "M = []\n",
        "\n",
        "# input\n",
        "m = int(input(\"Filas de la matriz: \"))\n",
        "n = int(input(\"Columnas de la matriz: \"))\n",
        "\n",
        "# processing\n",
        "for i in range(m):\n",
        "  M.append([])\n",
        "  for j in range(n):\n",
        "    M[i].append(random.randint(1,9))\n",
        "\n",
        "for k in range(m): \n",
        "  for j in range(n):\n",
        "    print(M[k][j], end=\" \")\n",
        "  print()\n",
        "\n",
        "if m == n:\n",
        "  for i in range(m):\n",
        "    for j in range(n):\n",
        "      if i < j:\n",
        "        suma = suma + M[i][j]\n",
        "  print(\"Suma de los elementos de la triangular inferior: \", suma) # output\n",
        "else:\n",
        "  print(\"No existe triangular inferior\") # output"
      ],
      "metadata": {
        "id": "Imp-pOUxJ1li"
      },
      "execution_count": null,
      "outputs": []
    },
    {
      "cell_type": "markdown",
      "source": [
        "# Ejercicio No. 80: Elementos pares e impares de la matriz.\n",
        "Crear e imprimir 2 vectores así: El vector b que tenga todos los números pares de la matriz, y el vector c que tenga los números impares."
      ],
      "metadata": {
        "id": "V_YyHBF3OP-b"
      }
    },
    {
      "cell_type": "code",
      "source": [
        "# Ejercicio No. 80: Elementos pares e impares de la matriz.\n",
        "\n",
        "import random\n",
        "\n",
        "b = []\n",
        "c = []\n",
        "M = []\n",
        "\n",
        "# input\n",
        "m = int(input(\"Filas de la matriz: \"))\n",
        "n = int(input(\"Columnas de la matriz: \"))\n",
        "\n",
        "# processing\n",
        "for i in range(m):\n",
        "  M.append([])\n",
        "  for j in range(n):\n",
        "    M[i].append(random.randint(1,9))\n",
        "\n",
        "for k in range(m): \n",
        "  for j in range(n):\n",
        "    print(M[k][j], end=\" \")\n",
        "  print()\n",
        "\n",
        "for i in range(m):\n",
        "  for j in range(n):\n",
        "    if M[i][j] % 2 == 0:\n",
        "      b.append(M[i][j])\n",
        "    else:\n",
        "      c.append(M[i][j])\n",
        "\n",
        "# output      \n",
        "print(\"Elementos pares de la matriz:\", b)\n",
        "print(\"Elementos impares de la matriz:\", c)"
      ],
      "metadata": {
        "colab": {
          "base_uri": "https://localhost:8080/"
        },
        "id": "Vm5CIcMaJtdR",
        "outputId": "f4afe002-8d0b-4cc8-c38d-dd97b4a995a4"
      },
      "execution_count": null,
      "outputs": [
        {
          "output_type": "stream",
          "name": "stdout",
          "text": [
            "Elementos pares de la matriz: [2, 4, 8]\n",
            "Elementos impares de la matriz: [5]\n"
          ]
        }
      ]
    },
    {
      "cell_type": "markdown",
      "source": [
        "# Ejercicio No. 81: Suma de los elementos periféricos de la matriz."
      ],
      "metadata": {
        "id": "AoTxL7QnSKrR"
      }
    },
    {
      "cell_type": "code",
      "source": [
        "# Ejercicio No. 81: Suma de los elementos periféricos de la matriz\n",
        "\n",
        "import random\n",
        "\n",
        "suma = 0\n",
        "M = []\n",
        "\n",
        "# input\n",
        "m = int(input(\"Filas de la matriz: \"))\n",
        "n = int(input(\"Columnas de la matriz: \"))\n",
        "\n",
        "# processing\n",
        "for i in range(m):\n",
        "  M.append([])\n",
        "  for j in range(n):\n",
        "    M[i].append(random.randint(1,9))\n",
        "\n",
        "for k in range(m): \n",
        "  for j in range(n):\n",
        "    print(M[k][j], end=\" \")\n",
        "  print()\n",
        "\n",
        "for i in range(1, m-1):\n",
        "  suma += M[i][0] + M[i][n-1]\n",
        "for j in range(n):\n",
        "  suma += M[0][j] + M[m-1][j]\n",
        "\n",
        "print(\"Suma de los elementos periféricos de la matriz:\", suma) # output"
      ],
      "metadata": {
        "colab": {
          "base_uri": "https://localhost:8080/"
        },
        "id": "MiOnU6CSOHPt",
        "outputId": "1fe04065-a992-419a-9477-29f0a311c57a"
      },
      "execution_count": null,
      "outputs": [
        {
          "output_type": "stream",
          "name": "stdout",
          "text": [
            "Filas de la matriz: 3\n",
            "Columnas de la matriz: 3\n",
            "6 2 6 \n",
            "7 3 6 \n",
            "9 7 3 \n",
            "Suma de los elementos periféricos de la matriz: 46\n"
          ]
        }
      ]
    }
  ]
}